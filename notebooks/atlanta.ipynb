{
 "cells": [
  {
   "cell_type": "code",
   "execution_count": 3,
   "metadata": {},
   "outputs": [],
   "source": [
    "import pandas as pd"
   ]
  },
  {
   "cell_type": "code",
   "execution_count": 4,
   "metadata": {},
   "outputs": [
    {
     "data": {
      "text/plain": [
       "Index(['claim_number', 'plaintiff_name', 'summary_allegations',\n",
       "       'amount_awarded', 'incident_date', 'closed_date', 'claim_or_lawsuit',\n",
       "       'city', 'state', 'denied_date', 'calendar_year', 'incident_year',\n",
       "       'matter_name', 'court', 'docket_number', 'filed_date', 'filed_year',\n",
       "       'location', 'other_expenses', 'collection', 'total_incurred',\n",
       "       'plaintiff_attorney', 'case_outcome', 'amount_demanded'],\n",
       "      dtype='object')"
      ]
     },
     "execution_count": 4,
     "metadata": {},
     "output_type": "execute_result"
    }
   ],
   "source": [
    "atlanta = pd.read_csv('/workspaces/police-settlements/atlanta_ga/final/atlanta_edited.csv')\n",
    "atlanta.columns"
   ]
  }
 ],
 "metadata": {
  "kernelspec": {
   "display_name": "Python 3",
   "language": "python",
   "name": "python3"
  },
  "language_info": {
   "codemirror_mode": {
    "name": "ipython",
    "version": 3
   },
   "file_extension": ".py",
   "mimetype": "text/x-python",
   "name": "python",
   "nbconvert_exporter": "python",
   "pygments_lexer": "ipython3",
   "version": "3.9.2"
  },
  "orig_nbformat": 4,
  "vscode": {
   "interpreter": {
    "hash": "eb4a0ac80907d7f44e1a5e88d3d3381b33e3dbedd3a24d113e876f30a0c46bee"
   }
  }
 },
 "nbformat": 4,
 "nbformat_minor": 2
}
